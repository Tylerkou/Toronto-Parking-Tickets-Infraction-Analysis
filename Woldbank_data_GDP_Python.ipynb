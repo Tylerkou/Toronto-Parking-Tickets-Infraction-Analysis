{
  "nbformat": 4,
  "nbformat_minor": 0,
  "metadata": {
    "colab": {
      "name": "Woldbank_data_GDP_Python.ipynb",
      "provenance": [],
      "collapsed_sections": [],
      "toc_visible": true,
      "mount_file_id": "1-1zBK-budCpyT7lv110tMrzRe-HAsqWl",
      "authorship_tag": "ABX9TyPLWMYCmyhYjD5UwRyvtQKx",
      "include_colab_link": true
    },
    "kernelspec": {
      "name": "python3",
      "display_name": "Python 3"
    },
    "accelerator": "GPU"
  },
  "cells": [
    {
      "cell_type": "markdown",
      "metadata": {
        "id": "view-in-github",
        "colab_type": "text"
      },
      "source": [
        "<a href=\"https://colab.research.google.com/github/Tylerkou/Toronto-Parking-Tickets-Infraction-Analysis/blob/main/Woldbank_data_GDP_Python.ipynb\" target=\"_parent\"><img src=\"https://colab.research.google.com/assets/colab-badge.svg\" alt=\"Open In Colab\"/></a>"
      ]
    },
    {
      "cell_type": "markdown",
      "metadata": {
        "id": "zAlupUSit5fK"
      },
      "source": [
        "#TASK #1: IMPORT DATASETS AND LIBRARIES"
      ]
    },
    {
      "cell_type": "code",
      "metadata": {
        "id": "cqAHbvFOuAlQ",
        "colab": {
          "base_uri": "https://localhost:8080/"
        },
        "outputId": "a104d180-fcef-4ee0-ea82-028919d1aacd"
      },
      "source": [
        "# Mount the drive\n",
        "from google.colab import drive\n",
        "drive.mount('/content/drive')"
      ],
      "execution_count": null,
      "outputs": [
        {
          "output_type": "stream",
          "text": [
            "Drive already mounted at /content/drive; to attempt to forcibly remount, call drive.mount(\"/content/drive\", force_remount=True).\n"
          ],
          "name": "stdout"
        }
      ]
    },
    {
      "cell_type": "code",
      "metadata": {
        "id": "_CUspuoRt25m"
      },
      "source": [
        "import pandas as pd\n",
        "import matplotlib.pyplot as plt\n",
        "import numpy as np\n",
        "import seaborn as sns\n",
        "from copy import copy\n",
        "from scipy import stats\n",
        "import plotly.express as px\n",
        "import plotly.figure_factory as ff\n",
        "import plotly.graph_objects as go"
      ],
      "execution_count": null,
      "outputs": []
    },
    {
      "cell_type": "code",
      "metadata": {
        "id": "8Xl_KnjyISc-"
      },
      "source": [
        "df = pd.read_csv(\"/content/API_CHN_DS2_en_csv_v2_1928056.csv\")"
      ],
      "execution_count": null,
      "outputs": []
    },
    {
      "cell_type": "code",
      "metadata": {
        "id": "pNrEblR5JhWM"
      },
      "source": [
        "df.set_index('Indicator Name')"
      ],
      "execution_count": null,
      "outputs": []
    },
    {
      "cell_type": "code",
      "metadata": {
        "colab": {
          "base_uri": "https://localhost:8080/",
          "height": 530
        },
        "id": "uH2B6Yc-F4bc",
        "outputId": "f31d56b9-f978-4033-ac93-92229444ba34"
      },
      "source": [
        "df.tail()"
      ],
      "execution_count": null,
      "outputs": [
        {
          "output_type": "execute_result",
          "data": {
            "text/html": [
              "<div>\n",
              "<style scoped>\n",
              "    .dataframe tbody tr th:only-of-type {\n",
              "        vertical-align: middle;\n",
              "    }\n",
              "\n",
              "    .dataframe tbody tr th {\n",
              "        vertical-align: top;\n",
              "    }\n",
              "\n",
              "    .dataframe thead th {\n",
              "        text-align: right;\n",
              "    }\n",
              "</style>\n",
              "<table border=\"1\" class=\"dataframe\">\n",
              "  <thead>\n",
              "    <tr style=\"text-align: right;\">\n",
              "      <th></th>\n",
              "      <th>Indicator Name</th>\n",
              "      <th>1960</th>\n",
              "      <th>1961</th>\n",
              "      <th>1962</th>\n",
              "      <th>1963</th>\n",
              "      <th>1964</th>\n",
              "      <th>1965</th>\n",
              "      <th>1966</th>\n",
              "      <th>1967</th>\n",
              "      <th>1968</th>\n",
              "      <th>1969</th>\n",
              "      <th>1970</th>\n",
              "      <th>1971</th>\n",
              "      <th>1972</th>\n",
              "      <th>1973</th>\n",
              "      <th>1974</th>\n",
              "      <th>1975</th>\n",
              "      <th>1976</th>\n",
              "      <th>1977</th>\n",
              "      <th>1978</th>\n",
              "      <th>1979</th>\n",
              "      <th>1980</th>\n",
              "      <th>1981</th>\n",
              "      <th>1982</th>\n",
              "      <th>1983</th>\n",
              "      <th>1984</th>\n",
              "      <th>1985</th>\n",
              "      <th>1986</th>\n",
              "      <th>1987</th>\n",
              "      <th>1988</th>\n",
              "      <th>1989</th>\n",
              "      <th>1990</th>\n",
              "      <th>1991</th>\n",
              "      <th>1992</th>\n",
              "      <th>1993</th>\n",
              "      <th>1994</th>\n",
              "      <th>1995</th>\n",
              "      <th>1996</th>\n",
              "      <th>1997</th>\n",
              "      <th>1998</th>\n",
              "      <th>1999</th>\n",
              "      <th>2000</th>\n",
              "      <th>2001</th>\n",
              "      <th>2002</th>\n",
              "      <th>2003</th>\n",
              "      <th>2004</th>\n",
              "      <th>2005</th>\n",
              "      <th>2006</th>\n",
              "      <th>2007</th>\n",
              "      <th>2008</th>\n",
              "      <th>2009</th>\n",
              "      <th>2010</th>\n",
              "      <th>2011</th>\n",
              "      <th>2012</th>\n",
              "      <th>2013</th>\n",
              "      <th>2014</th>\n",
              "      <th>2015</th>\n",
              "      <th>2016</th>\n",
              "      <th>2017</th>\n",
              "      <th>2018</th>\n",
              "      <th>2019</th>\n",
              "      <th>2020</th>\n",
              "    </tr>\n",
              "  </thead>\n",
              "  <tbody>\n",
              "    <tr>\n",
              "      <th>1435</th>\n",
              "      <td>Goods exports (BoP, current US$)</td>\n",
              "      <td>NaN</td>\n",
              "      <td>NaN</td>\n",
              "      <td>NaN</td>\n",
              "      <td>NaN</td>\n",
              "      <td>NaN</td>\n",
              "      <td>NaN</td>\n",
              "      <td>NaN</td>\n",
              "      <td>NaN</td>\n",
              "      <td>NaN</td>\n",
              "      <td>NaN</td>\n",
              "      <td>NaN</td>\n",
              "      <td>NaN</td>\n",
              "      <td>NaN</td>\n",
              "      <td>NaN</td>\n",
              "      <td>NaN</td>\n",
              "      <td>NaN</td>\n",
              "      <td>NaN</td>\n",
              "      <td>NaN</td>\n",
              "      <td>NaN</td>\n",
              "      <td>NaN</td>\n",
              "      <td>NaN</td>\n",
              "      <td>NaN</td>\n",
              "      <td>2.112500e+10</td>\n",
              "      <td>2.070700e+10</td>\n",
              "      <td>2.390500e+10</td>\n",
              "      <td>2.510800e+10</td>\n",
              "      <td>2.575600e+10</td>\n",
              "      <td>3.473400e+10</td>\n",
              "      <td>4.105400e+10</td>\n",
              "      <td>4.322000e+10</td>\n",
              "      <td>5.151900e+10</td>\n",
              "      <td>5.891900e+10</td>\n",
              "      <td>6.956800e+10</td>\n",
              "      <td>7.565900e+10</td>\n",
              "      <td>1.025610e+11</td>\n",
              "      <td>1.281100e+11</td>\n",
              "      <td>1.510770e+11</td>\n",
              "      <td>8.298300e+10</td>\n",
              "      <td>7.898500e+10</td>\n",
              "      <td>8.379400e+10</td>\n",
              "      <td>1.113320e+11</td>\n",
              "      <td>1.184630e+11</td>\n",
              "      <td>1.454600e+11</td>\n",
              "      <td>3.882980e+11</td>\n",
              "      <td>5.256150e+11</td>\n",
              "      <td>6.948700e+11</td>\n",
              "      <td>8.976600e+11</td>\n",
              "      <td>1.131610e+12</td>\n",
              "      <td>1.349970e+12</td>\n",
              "      <td>1.127160e+12</td>\n",
              "      <td>1.486410e+12</td>\n",
              "      <td>1.807810e+12</td>\n",
              "      <td>1.973520e+12</td>\n",
              "      <td>2.148590e+12</td>\n",
              "      <td>2.243760e+12</td>\n",
              "      <td>2.142750e+12</td>\n",
              "      <td>1.989520e+12</td>\n",
              "      <td>2.216210e+12</td>\n",
              "      <td>2.417440e+12</td>\n",
              "      <td>2.399020e+12</td>\n",
              "      <td>NaN</td>\n",
              "    </tr>\n",
              "    <tr>\n",
              "      <th>1436</th>\n",
              "      <td>Net trade in goods and services (BoP, current ...</td>\n",
              "      <td>NaN</td>\n",
              "      <td>NaN</td>\n",
              "      <td>NaN</td>\n",
              "      <td>NaN</td>\n",
              "      <td>NaN</td>\n",
              "      <td>NaN</td>\n",
              "      <td>NaN</td>\n",
              "      <td>NaN</td>\n",
              "      <td>NaN</td>\n",
              "      <td>NaN</td>\n",
              "      <td>NaN</td>\n",
              "      <td>NaN</td>\n",
              "      <td>NaN</td>\n",
              "      <td>NaN</td>\n",
              "      <td>NaN</td>\n",
              "      <td>NaN</td>\n",
              "      <td>NaN</td>\n",
              "      <td>NaN</td>\n",
              "      <td>NaN</td>\n",
              "      <td>NaN</td>\n",
              "      <td>NaN</td>\n",
              "      <td>NaN</td>\n",
              "      <td>4.737000e+09</td>\n",
              "      <td>2.475000e+09</td>\n",
              "      <td>-3.200000e+07</td>\n",
              "      <td>-1.259200e+10</td>\n",
              "      <td>-7.589000e+09</td>\n",
              "      <td>2.910000e+08</td>\n",
              "      <td>-4.060000e+09</td>\n",
              "      <td>-4.927000e+09</td>\n",
              "      <td>1.066800e+10</td>\n",
              "      <td>1.160100e+10</td>\n",
              "      <td>4.998000e+09</td>\n",
              "      <td>-1.149700e+10</td>\n",
              "      <td>7.611000e+09</td>\n",
              "      <td>1.195759e+10</td>\n",
              "      <td>1.755100e+10</td>\n",
              "      <td>4.282400e+10</td>\n",
              "      <td>4.383700e+10</td>\n",
              "      <td>3.064100e+10</td>\n",
              "      <td>2.887353e+10</td>\n",
              "      <td>2.808400e+10</td>\n",
              "      <td>3.738309e+10</td>\n",
              "      <td>3.582113e+10</td>\n",
              "      <td>5.117438e+10</td>\n",
              "      <td>1.246270e+11</td>\n",
              "      <td>2.089190e+11</td>\n",
              "      <td>3.080360e+11</td>\n",
              "      <td>3.488330e+11</td>\n",
              "      <td>2.201300e+11</td>\n",
              "      <td>2.230240e+11</td>\n",
              "      <td>1.819040e+11</td>\n",
              "      <td>2.318450e+11</td>\n",
              "      <td>2.353800e+11</td>\n",
              "      <td>2.212990e+11</td>\n",
              "      <td>3.578710e+11</td>\n",
              "      <td>2.557370e+11</td>\n",
              "      <td>2.170100e+11</td>\n",
              "      <td>1.030020e+11</td>\n",
              "      <td>1.641220e+11</td>\n",
              "      <td>NaN</td>\n",
              "    </tr>\n",
              "    <tr>\n",
              "      <th>1437</th>\n",
              "      <td>Imports of goods and services (BoP, current US$)</td>\n",
              "      <td>NaN</td>\n",
              "      <td>NaN</td>\n",
              "      <td>NaN</td>\n",
              "      <td>NaN</td>\n",
              "      <td>NaN</td>\n",
              "      <td>NaN</td>\n",
              "      <td>NaN</td>\n",
              "      <td>NaN</td>\n",
              "      <td>NaN</td>\n",
              "      <td>NaN</td>\n",
              "      <td>NaN</td>\n",
              "      <td>NaN</td>\n",
              "      <td>NaN</td>\n",
              "      <td>NaN</td>\n",
              "      <td>NaN</td>\n",
              "      <td>NaN</td>\n",
              "      <td>NaN</td>\n",
              "      <td>NaN</td>\n",
              "      <td>NaN</td>\n",
              "      <td>NaN</td>\n",
              "      <td>NaN</td>\n",
              "      <td>NaN</td>\n",
              "      <td>1.890000e+10</td>\n",
              "      <td>2.071100e+10</td>\n",
              "      <td>2.674800e+10</td>\n",
              "      <td>4.075500e+10</td>\n",
              "      <td>3.717200e+10</td>\n",
              "      <td>3.888000e+10</td>\n",
              "      <td>4.997200e+10</td>\n",
              "      <td>5.275000e+10</td>\n",
              "      <td>4.670600e+10</td>\n",
              "      <td>5.429700e+10</td>\n",
              "      <td>7.381900e+10</td>\n",
              "      <td>9.834900e+10</td>\n",
              "      <td>1.115700e+11</td>\n",
              "      <td>1.352820e+11</td>\n",
              "      <td>1.541270e+11</td>\n",
              "      <td>9.770900e+10</td>\n",
              "      <td>9.752700e+10</td>\n",
              "      <td>1.192430e+11</td>\n",
              "      <td>1.611660e+11</td>\n",
              "      <td>1.804880e+11</td>\n",
              "      <td>2.102430e+11</td>\n",
              "      <td>4.101550e+11</td>\n",
              "      <td>5.536000e+11</td>\n",
              "      <td>6.487120e+11</td>\n",
              "      <td>7.828120e+11</td>\n",
              "      <td>9.490170e+11</td>\n",
              "      <td>1.146480e+12</td>\n",
              "      <td>1.029590e+12</td>\n",
              "      <td>1.380920e+12</td>\n",
              "      <td>1.826950e+12</td>\n",
              "      <td>1.943250e+12</td>\n",
              "      <td>2.120220e+12</td>\n",
              "      <td>2.241600e+12</td>\n",
              "      <td>2.002280e+12</td>\n",
              "      <td>1.942190e+12</td>\n",
              "      <td>2.212270e+12</td>\n",
              "      <td>2.548010e+12</td>\n",
              "      <td>2.479250e+12</td>\n",
              "      <td>NaN</td>\n",
              "    </tr>\n",
              "    <tr>\n",
              "      <th>1438</th>\n",
              "      <td>Forest area (% of land area)</td>\n",
              "      <td>NaN</td>\n",
              "      <td>NaN</td>\n",
              "      <td>NaN</td>\n",
              "      <td>NaN</td>\n",
              "      <td>NaN</td>\n",
              "      <td>NaN</td>\n",
              "      <td>NaN</td>\n",
              "      <td>NaN</td>\n",
              "      <td>NaN</td>\n",
              "      <td>NaN</td>\n",
              "      <td>NaN</td>\n",
              "      <td>NaN</td>\n",
              "      <td>NaN</td>\n",
              "      <td>NaN</td>\n",
              "      <td>NaN</td>\n",
              "      <td>NaN</td>\n",
              "      <td>NaN</td>\n",
              "      <td>NaN</td>\n",
              "      <td>NaN</td>\n",
              "      <td>NaN</td>\n",
              "      <td>NaN</td>\n",
              "      <td>NaN</td>\n",
              "      <td>NaN</td>\n",
              "      <td>NaN</td>\n",
              "      <td>NaN</td>\n",
              "      <td>NaN</td>\n",
              "      <td>NaN</td>\n",
              "      <td>NaN</td>\n",
              "      <td>NaN</td>\n",
              "      <td>NaN</td>\n",
              "      <td>1.673801e+01</td>\n",
              "      <td>1.694955e+01</td>\n",
              "      <td>1.716109e+01</td>\n",
              "      <td>1.737263e+01</td>\n",
              "      <td>1.758417e+01</td>\n",
              "      <td>1.779573e+01</td>\n",
              "      <td>1.800729e+01</td>\n",
              "      <td>1.821883e+01</td>\n",
              "      <td>1.843037e+01</td>\n",
              "      <td>1.864191e+01</td>\n",
              "      <td>1.885347e+01</td>\n",
              "      <td>1.919526e+01</td>\n",
              "      <td>1.953704e+01</td>\n",
              "      <td>1.987882e+01</td>\n",
              "      <td>2.022059e+01</td>\n",
              "      <td>2.056237e+01</td>\n",
              "      <td>2.072356e+01</td>\n",
              "      <td>2.088475e+01</td>\n",
              "      <td>2.104594e+01</td>\n",
              "      <td>2.120713e+01</td>\n",
              "      <td>2.136832e+01</td>\n",
              "      <td>2.153259e+01</td>\n",
              "      <td>2.169686e+01</td>\n",
              "      <td>2.186113e+01</td>\n",
              "      <td>2.202540e+01</td>\n",
              "      <td>2.218967e+01</td>\n",
              "      <td>2.235394e+01</td>\n",
              "      <td>NaN</td>\n",
              "      <td>NaN</td>\n",
              "      <td>NaN</td>\n",
              "      <td>NaN</td>\n",
              "    </tr>\n",
              "    <tr>\n",
              "      <th>1439</th>\n",
              "      <td>Agricultural machinery, tractors</td>\n",
              "      <td>NaN</td>\n",
              "      <td>52661.0</td>\n",
              "      <td>55360.0</td>\n",
              "      <td>59657.0</td>\n",
              "      <td>66290.0</td>\n",
              "      <td>73021.0</td>\n",
              "      <td>100432.0</td>\n",
              "      <td>125442.0</td>\n",
              "      <td>155602.0</td>\n",
              "      <td>180772.0</td>\n",
              "      <td>126440.0</td>\n",
              "      <td>151281.0</td>\n",
              "      <td>191220.0</td>\n",
              "      <td>235524.0</td>\n",
              "      <td>282282.0</td>\n",
              "      <td>346786.0</td>\n",
              "      <td>398946.0</td>\n",
              "      <td>469106.0</td>\n",
              "      <td>559638.0</td>\n",
              "      <td>669675.0</td>\n",
              "      <td>747900.0</td>\n",
              "      <td>796867.0</td>\n",
              "      <td>8.178570e+05</td>\n",
              "      <td>8.479160e+05</td>\n",
              "      <td>8.620780e+05</td>\n",
              "      <td>8.613640e+05</td>\n",
              "      <td>8.764700e+05</td>\n",
              "      <td>8.911700e+05</td>\n",
              "      <td>8.808590e+05</td>\n",
              "      <td>8.580310e+05</td>\n",
              "      <td>8.241130e+05</td>\n",
              "      <td>7.957130e+05</td>\n",
              "      <td>7.706290e+05</td>\n",
              "      <td>7.343250e+05</td>\n",
              "      <td>7.057230e+05</td>\n",
              "      <td>6.852020e+05</td>\n",
              "      <td>6.842900e+05</td>\n",
              "      <td>7.031170e+05</td>\n",
              "      <td>7.385260e+05</td>\n",
              "      <td>7.985060e+05</td>\n",
              "      <td>9.891390e+05</td>\n",
              "      <td>NaN</td>\n",
              "      <td>NaN</td>\n",
              "      <td>NaN</td>\n",
              "      <td>NaN</td>\n",
              "      <td>NaN</td>\n",
              "      <td>NaN</td>\n",
              "      <td>NaN</td>\n",
              "      <td>NaN</td>\n",
              "      <td>NaN</td>\n",
              "      <td>NaN</td>\n",
              "      <td>NaN</td>\n",
              "      <td>NaN</td>\n",
              "      <td>NaN</td>\n",
              "      <td>NaN</td>\n",
              "      <td>NaN</td>\n",
              "      <td>NaN</td>\n",
              "      <td>NaN</td>\n",
              "      <td>NaN</td>\n",
              "      <td>NaN</td>\n",
              "      <td>NaN</td>\n",
              "    </tr>\n",
              "  </tbody>\n",
              "</table>\n",
              "</div>"
            ],
            "text/plain": [
              "                                         Indicator Name  ...  2020\n",
              "1435                   Goods exports (BoP, current US$)  ...   NaN\n",
              "1436  Net trade in goods and services (BoP, current ...  ...   NaN\n",
              "1437   Imports of goods and services (BoP, current US$)  ...   NaN\n",
              "1438                       Forest area (% of land area)  ...   NaN\n",
              "1439                   Agricultural machinery, tractors  ...   NaN\n",
              "\n",
              "[5 rows x 62 columns]"
            ]
          },
          "metadata": {
            "tags": []
          },
          "execution_count": 172
        }
      ]
    },
    {
      "cell_type": "code",
      "metadata": {
        "id": "DJJUn6r7IAsB"
      },
      "source": [
        "GDP = df.xs(384)\n"
      ],
      "execution_count": null,
      "outputs": []
    },
    {
      "cell_type": "code",
      "metadata": {
        "id": "MVcY_3J0AhT3"
      },
      "source": [
        "del GDP[ 'Indicator Name']"
      ],
      "execution_count": null,
      "outputs": []
    },
    {
      "cell_type": "code",
      "metadata": {
        "colab": {
          "base_uri": "https://localhost:8080/",
          "height": 309
        },
        "id": "ihW79HSQooob",
        "outputId": "6ec1ebe6-7f9c-4ef0-ef9a-c55a3a175500"
      },
      "source": [
        "GDP.plot(kind='bar')"
      ],
      "execution_count": null,
      "outputs": [
        {
          "output_type": "execute_result",
          "data": {
            "text/plain": [
              "<matplotlib.axes._subplots.AxesSubplot at 0x7fc848b59278>"
            ]
          },
          "metadata": {
            "tags": []
          },
          "execution_count": 190
        },
        {
          "output_type": "display_data",
          "data": {
            "image/png": "[encoded data removed]",
            "text/plain": [
              "<Figure size 432x288 with 1 Axes>"
            ]
          },
          "metadata": {
            "tags": [],
            "needs_background": "light"
          }
        }
      ]
    },
    {
      "cell_type": "code",
      "metadata": {
        "colab": {
          "base_uri": "https://localhost:8080/"
        },
        "id": "JxjEY4tQOWlH",
        "outputId": "d933930b-660f-498d-c903-e2ad70ddd903"
      },
      "source": [
        "GDP.tail()"
      ],
      "execution_count": null,
      "outputs": [
        {
          "output_type": "execute_result",
          "data": {
            "text/plain": [
              "2016    9.52397e+12\n",
              "2017    1.01856e+13\n",
              "2018    1.08731e+13\n",
              "2019    1.15375e+13\n",
              "2020    1.18028e+13\n",
              "Name: 384, dtype: object"
            ]
          },
          "metadata": {
            "tags": []
          },
          "execution_count": 191
        }
      ]
    },
    {
      "cell_type": "code",
      "metadata": {
        "id": "TZi6a8mWMGSZ"
      },
      "source": [
        "def show_plot(df,fig_title):\n",
        " df.plot( figsize =(15,7), linewidth = 3 , title = fig_title )\n",
        " plt.grid()\n",
        " plt.show()"
      ],
      "execution_count": null,
      "outputs": []
    },
    {
      "cell_type": "code",
      "metadata": {
        "colab": {
          "base_uri": "https://localhost:8080/",
          "height": 388
        },
        "id": "ahn8EcS6NBei",
        "outputId": "b793c1a6-4522-462a-cdc4-c5fafd5d2e53"
      },
      "source": [
        "show_plot(GDP, 'China GDP')"
      ],
      "execution_count": null,
      "outputs": [
        {
          "output_type": "display_data",
          "data": {
            "image/png": "[encoded data removed]",
            "text/plain": [
              "<Figure size 1080x504 with 1 Axes>"
            ]
          },
          "metadata": {
            "tags": [],
            "needs_background": "light"
          }
        }
      ]
    },
    {
      "cell_type": "code",
      "metadata": {
        "id": "rnq8XqZuqxhW"
      },
      "source": [
        "def show_plot(df,fig_title):\n",
        " df.plot( kind= 'bar',figsize =(15,7), linewidth = 3 , title = fig_title )\n",
        " plt.grid()\n",
        " plt.show()\n"
      ],
      "execution_count": null,
      "outputs": []
    },
    {
      "cell_type": "code",
      "metadata": {
        "colab": {
          "base_uri": "https://localhost:8080/",
          "height": 402
        },
        "id": "ti9fh315q9nC",
        "outputId": "e6a3a733-d002-459b-9af2-61b0a4ae61a5"
      },
      "source": [
        "show_plot(GDP, 'China GDP ')"
      ],
      "execution_count": null,
      "outputs": [
        {
          "output_type": "display_data",
          "data": {
            "image/png": "[encoded data removed]",
            "text/plain": [
              "<Figure size 1080x504 with 1 Axes>"
            ]
          },
          "metadata": {
            "tags": [],
            "needs_background": "light"
          }
        }
      ]
    },
    {
      "cell_type": "code",
      "metadata": {
        "id": "v1KFQVXS2Fcp"
      },
      "source": [
        ""
      ],
      "execution_count": null,
      "outputs": []
    },
    {
      "cell_type": "code",
      "metadata": {
        "id": "gZsfiIJ093UR"
      },
      "source": [
        "GDP_growth_annual= df.xs(108)"
      ],
      "execution_count": null,
      "outputs": []
    },
    {
      "cell_type": "code",
      "metadata": {
        "colab": {
          "base_uri": "https://localhost:8080/"
        },
        "id": "BRLMvdaT93Uc",
        "outputId": "2d1056b8-27f6-48ec-878f-f7e5f4d6eeae"
      },
      "source": [
        "GDP_growth_annual"
      ],
      "execution_count": null,
      "outputs": [
        {
          "output_type": "execute_result",
          "data": {
            "text/plain": [
              "Indicator Name    GDP growth (annual %)\n",
              "1960                                NaN\n",
              "1961                             -27.27\n",
              "1962                              -5.58\n",
              "1963                               10.3\n",
              "                          ...          \n",
              "2016                            6.84876\n",
              "2017                             6.9472\n",
              "2018                            6.74977\n",
              "2019                            6.11012\n",
              "2020                                NaN\n",
              "Name: 108, Length: 62, dtype: object"
            ]
          },
          "metadata": {
            "tags": []
          },
          "execution_count": 166
        }
      ]
    },
    {
      "cell_type": "code",
      "metadata": {
        "id": "wtGbGErx93Uc"
      },
      "source": [
        "del GDP_growth_annual[ 'Indicator Name']"
      ],
      "execution_count": null,
      "outputs": []
    },
    {
      "cell_type": "code",
      "metadata": {
        "id": "Sg9qV4nZ93Ud"
      },
      "source": [
        "def show_plot(df,fig_title):\n",
        " df.plot( figsize =(15,7), linewidth = 3 , title = fig_title )\n",
        " plt.grid()\n",
        " plt.show()"
      ],
      "execution_count": null,
      "outputs": []
    },
    {
      "cell_type": "code",
      "metadata": {
        "colab": {
          "base_uri": "https://localhost:8080/",
          "height": 480
        },
        "id": "lpY9nn_193Ue",
        "outputId": "73dedb5c-ea28-4143-abce-9bdb20c4242c"
      },
      "source": [
        "show_plot(GDP_growth_annual, 'China GDP growth (annual %) ')\n"
      ],
      "execution_count": null,
      "outputs": [
        {
          "output_type": "display_data",
          "data": {
            "image/png": "[encoded data removed]",
            "text/plain": [
              "<Figure size 1080x504 with 1 Axes>"
            ]
          },
          "metadata": {
            "tags": [],
            "needs_background": "light"
          }
        }
      ]
    },
    {
      "cell_type": "code",
      "metadata": {
        "id": "ElfZI7OOsY87"
      },
      "source": [
        ""
      ],
      "execution_count": null,
      "outputs": []
    },
    {
      "cell_type": "markdown",
      "metadata": {
        "id": "wH8g6JfW2ZMs"
      },
      "source": [
        "# other GDP related factor"
      ]
    },
    {
      "cell_type": "code",
      "metadata": {
        "id": "cDDOeSHj2FHr"
      },
      "source": [
        "inflation= df.xs(109)"
      ],
      "execution_count": null,
      "outputs": []
    },
    {
      "cell_type": "code",
      "metadata": {
        "id": "jWibFDJO5sD7"
      },
      "source": [
        "del inflation[ 'Indicator Name']"
      ],
      "execution_count": null,
      "outputs": []
    },
    {
      "cell_type": "code",
      "metadata": {
        "id": "5OdAuxqd4-d4"
      },
      "source": [
        "def show_plot(df,fig_title):\n",
        " df.plot( figsize =(15,7), linewidth = 3 , title = fig_title )\n",
        " plt.grid()\n",
        " plt.show()"
      ],
      "execution_count": null,
      "outputs": []
    },
    {
      "cell_type": "code",
      "metadata": {
        "colab": {
          "base_uri": "https://localhost:8080/",
          "height": 464
        },
        "id": "eHqOcDQw2EuM",
        "outputId": "a30bbe8d-7a12-4790-8121-567236f3e01a"
      },
      "source": [
        "show_plot(inflation, 'China Inflation ')\n"
      ],
      "execution_count": null,
      "outputs": [
        {
          "output_type": "display_data",
          "data": {
            "image/png": "[encoded data removed]",
            "text/plain": [
              "<Figure size 1080x504 with 1 Axes>"
            ]
          },
          "metadata": {
            "tags": [],
            "needs_background": "light"
          }
        }
      ]
    },
    {
      "cell_type": "markdown",
      "metadata": {
        "id": "OnEmJz8_7PuU"
      },
      "source": [
        "# \"Agriculture, forestry, and fishing, value added (% of GDP)\""
      ]
    },
    {
      "cell_type": "code",
      "metadata": {
        "id": "kDRB7DAP7o30"
      },
      "source": [
        "Ag_fore_fishing= df.xs(835)"
      ],
      "execution_count": null,
      "outputs": []
    },
    {
      "cell_type": "code",
      "metadata": {
        "id": "UdWGMewG8ei7"
      },
      "source": [
        "Ag_fore_fishing"
      ],
      "execution_count": null,
      "outputs": []
    },
    {
      "cell_type": "code",
      "metadata": {
        "id": "N-ESQdOg8fLQ"
      },
      "source": [
        "del Ag_fore_fishing[ 'Indicator Name']"
      ],
      "execution_count": null,
      "outputs": []
    },
    {
      "cell_type": "code",
      "metadata": {
        "id": "Tqr5DunB7o38"
      },
      "source": [
        "def show_plot(df,fig_title):\n",
        " df.plot( figsize =(15,7), linewidth = 3 , title = fig_title )\n",
        " plt.grid()\n",
        " plt.show()"
      ],
      "execution_count": null,
      "outputs": []
    },
    {
      "cell_type": "code",
      "metadata": {
        "colab": {
          "base_uri": "https://localhost:8080/",
          "height": 390
        },
        "id": "HyPVSBuk7o39",
        "outputId": "c362864a-2c6a-4342-b29d-2978aef9cc3b"
      },
      "source": [
        "show_plot(Ag_fore_fishing, 'China Agriculture, forestry, and fishing, value added (% of GDP) ')\n"
      ],
      "execution_count": null,
      "outputs": [
        {
          "output_type": "display_data",
          "data": {
            "image/png": "[encoded data removed]",
            "text/plain": [
              "<Figure size 1080x504 with 1 Axes>"
            ]
          },
          "metadata": {
            "tags": [],
            "needs_background": "light"
          }
        }
      ]
    },
    {
      "cell_type": "code",
      "metadata": {
        "id": "P6rBEPMT9ydc"
      },
      "source": [
        ""
      ],
      "execution_count": null,
      "outputs": []
    },
    {
      "cell_type": "code",
      "metadata": {
        "id": "JzI-HrB1srXm"
      },
      "source": [
        "Interest = df.xs(618)"
      ],
      "execution_count": null,
      "outputs": []
    },
    {
      "cell_type": "code",
      "metadata": {
        "colab": {
          "base_uri": "https://localhost:8080/"
        },
        "id": "8X_tk2S0srXp",
        "outputId": "3f087de5-d91e-4ddd-c6d1-2b6c6301966c"
      },
      "source": [
        "Interest"
      ],
      "execution_count": null,
      "outputs": [
        {
          "output_type": "execute_result",
          "data": {
            "text/plain": [
              "Indicator Name    Lending interest rate (%)\n",
              "1960                                    NaN\n",
              "1961                                    NaN\n",
              "1962                                    NaN\n",
              "1963                                    NaN\n",
              "                            ...            \n",
              "2016                                   4.35\n",
              "2017                                   4.35\n",
              "2018                                   4.35\n",
              "2019                                   4.35\n",
              "2020                                    NaN\n",
              "Name: 618, Length: 62, dtype: object"
            ]
          },
          "metadata": {
            "tags": []
          },
          "execution_count": 8
        }
      ]
    },
    {
      "cell_type": "code",
      "metadata": {
        "id": "KzjAMBuisrXq"
      },
      "source": [
        "del Interest[ 'Indicator Name']"
      ],
      "execution_count": null,
      "outputs": []
    },
    {
      "cell_type": "code",
      "metadata": {
        "id": "TgDJC0jfsrXq"
      },
      "source": [
        "def show_plot(df,fig_title):\n",
        " df.plot( figsize =(15,7), linewidth = 3 , title = fig_title )\n",
        " plt.grid()\n",
        " plt.show()"
      ],
      "execution_count": null,
      "outputs": []
    },
    {
      "cell_type": "code",
      "metadata": {
        "colab": {
          "base_uri": "https://localhost:8080/",
          "height": 390
        },
        "id": "5zPawAoosrXr",
        "outputId": "e90204fb-412d-4ec6-8a22-ee65d3bffbce"
      },
      "source": [
        "show_plot(Interest, 'China Lending Interest ')\n"
      ],
      "execution_count": null,
      "outputs": [
        {
          "output_type": "display_data",
          "data": {
            "image/png": "[encoded data removed]",
            "text/plain": [
              "<Figure size 1080x504 with 1 Axes>"
            ]
          },
          "metadata": {
            "tags": [],
            "needs_background": "light"
          }
        }
      ]
    },
    {
      "cell_type": "code",
      "metadata": {
        "id": "v43D2RGRuuPu"
      },
      "source": [
        ""
      ],
      "execution_count": null,
      "outputs": []
    },
    {
      "cell_type": "code",
      "metadata": {
        "id": "vvTx9-47u5SV"
      },
      "source": [
        "Income_per_capita = df.xs(601)"
      ],
      "execution_count": null,
      "outputs": []
    },
    {
      "cell_type": "code",
      "metadata": {
        "colab": {
          "base_uri": "https://localhost:8080/"
        },
        "id": "jPv_RlhGu5Se",
        "outputId": "82a29fd7-f466-4525-8a73-9bb8e1b1c256"
      },
      "source": [
        "Income_per_capita"
      ],
      "execution_count": null,
      "outputs": [
        {
          "output_type": "execute_result",
          "data": {
            "text/plain": [
              "Indicator Name    Adjusted net national income per capita (const...\n",
              "1960                                                            NaN\n",
              "1961                                                            NaN\n",
              "1962                                                            NaN\n",
              "1963                                                            NaN\n",
              "                                        ...                        \n",
              "2016                                                        5206.66\n",
              "2017                                                        5480.58\n",
              "2018                                                        5987.97\n",
              "2019                                                            NaN\n",
              "2020                                                            NaN\n",
              "Name: 601, Length: 62, dtype: object"
            ]
          },
          "metadata": {
            "tags": []
          },
          "execution_count": 14
        }
      ]
    },
    {
      "cell_type": "code",
      "metadata": {
        "id": "AhP2hAR7u5Sg"
      },
      "source": [
        "del Income_per_capita[ 'Indicator Name']"
      ],
      "execution_count": null,
      "outputs": []
    },
    {
      "cell_type": "code",
      "metadata": {
        "id": "OqBx1Jvlu5Sg"
      },
      "source": [
        "def show_plot(df,fig_title):\n",
        " df.plot( figsize =(15,7), linewidth = 3 , title = fig_title )\n",
        " plt.grid()\n",
        " plt.show()"
      ],
      "execution_count": null,
      "outputs": []
    },
    {
      "cell_type": "code",
      "metadata": {
        "colab": {
          "base_uri": "https://localhost:8080/",
          "height": 385
        },
        "id": "FmUCIqWWu5Sg",
        "outputId": "a08eac8d-0a32-4d59-91a1-9ec834323794"
      },
      "source": [
        "show_plot(Income_per_capita, 'China Adjusted net national income per capita (constant 2010 US$) ')\n"
      ],
      "execution_count": null,
      "outputs": [
        {
          "output_type": "display_data",
          "data": {
            "image/png": "[encoded data removed]",
            "text/plain": [
              "<Figure size 1080x504 with 1 Axes>"
            ]
          },
          "metadata": {
            "tags": [],
            "needs_background": "light"
          }
        }
      ]
    },
    {
      "cell_type": "markdown",
      "metadata": {
        "id": "jLw3tgkIzv86"
      },
      "source": [
        "# Population"
      ]
    },
    {
      "cell_type": "code",
      "metadata": {
        "id": "UOzD3FlkyLYk"
      },
      "source": [
        "Population_age_60_64 = df.xs(999)"
      ],
      "execution_count": null,
      "outputs": []
    },
    {
      "cell_type": "code",
      "metadata": {
        "id": "PLcTS91bzD2W"
      },
      "source": [
        "Population_age_20_24 = df.xs(1000)"
      ],
      "execution_count": null,
      "outputs": []
    },
    {
      "cell_type": "code",
      "metadata": {
        "id": "tbtyUKAOzJ6m"
      },
      "source": [
        "Population_age_0_14 = df.xs(1001)"
      ],
      "execution_count": null,
      "outputs": []
    },
    {
      "cell_type": "code",
      "metadata": {
        "colab": {
          "base_uri": "https://localhost:8080/"
        },
        "id": "fk-av9bgyLYo",
        "outputId": "e8cfe0e8-a131-495f-ad44-dc85781c3661"
      },
      "source": [
        "Population_age_0_14"
      ],
      "execution_count": null,
      "outputs": [
        {
          "output_type": "execute_result",
          "data": {
            "text/plain": [
              "Indicator Name    Population ages 0-14, male\n",
              "1960                             1.36899e+08\n",
              "1961                               1.356e+08\n",
              "1962                               1.381e+08\n",
              "1963                             1.43419e+08\n",
              "                             ...            \n",
              "2016                             1.32898e+08\n",
              "2017                             1.33145e+08\n",
              "2018                             1.33218e+08\n",
              "2019                             1.33036e+08\n",
              "2020                                     NaN\n",
              "Name: 1001, Length: 62, dtype: object"
            ]
          },
          "metadata": {
            "tags": []
          },
          "execution_count": 46
        }
      ]
    },
    {
      "cell_type": "code",
      "metadata": {
        "id": "CvvHwb2oyLYp"
      },
      "source": [
        "del Population_age_0_14[ 'Indicator Name']"
      ],
      "execution_count": null,
      "outputs": []
    },
    {
      "cell_type": "code",
      "metadata": {
        "id": "52oL2tHzyLYp"
      },
      "source": [
        "def show_plot(df,fig_title):\n",
        " df.plot( kind='bar',figsize =(18,10), linewidth = 3 , title = fig_title, xlabel=\"\"\"Year \n",
        "\n",
        "\n",
        "Tyler K      \n",
        "©Chida Polaris\"\"\" )\n",
        " plt.grid()\n",
        " plt.show()"
      ],
      "execution_count": null,
      "outputs": []
    },
    {
      "cell_type": "code",
      "metadata": {
        "colab": {
          "base_uri": "https://localhost:8080/",
          "height": 500
        },
        "id": "5tRj56zKyLYq",
        "outputId": "b28a29fe-e590-4bb0-96c4-1e968311d007"
      },
      "source": [
        "show_plot(Population_age_0_14, 'China Population_age 0_14')\n"
      ],
      "execution_count": null,
      "outputs": [
        {
          "output_type": "display_data",
          "data": {
            "image/png": "[encoded data removed]",
            "text/plain": [
              "<Figure size 1296x720 with 1 Axes>"
            ]
          },
          "metadata": {
            "tags": [],
            "needs_background": "light"
          }
        }
      ]
    },
    {
      "cell_type": "code",
      "metadata": {
        "id": "lAQ65mh36LKY"
      },
      "source": [
        ""
      ],
      "execution_count": null,
      "outputs": []
    },
    {
      "cell_type": "code",
      "metadata": {
        "id": "N0TpPlYp9w-9"
      },
      "source": [
        ""
      ],
      "execution_count": null,
      "outputs": []
    },
    {
      "cell_type": "code",
      "metadata": {
        "id": "sjvYCoyAEr6a"
      },
      "source": [
        ""
      ],
      "execution_count": null,
      "outputs": []
    },
    {
      "cell_type": "code",
      "metadata": {
        "id": "KWA0U_wk3bne"
      },
      "source": [
        "d = dict(df.values)\n",
        "#another solution\n",
        "#d = df.set_index('Indicator')['Description'].to_dict()\n",
        "top_20_data = wbdata.get_dataframe(d, \n",
        "                            country=('BE','BG','CZ','DK','DE','EE','IE','GR','ES','FR','HR','IT','CY','LV','LT','LU',\n",
        "                                     'HU','MT','NL','AT','PL','PT','RO','SI','SK','FI','SE','GBR'), \n",
        "                            data_date=data_dates, \n",
        "                            convert_date=False, keep_levels=True)"
      ],
      "execution_count": null,
      "outputs": []
    }
  ]
}